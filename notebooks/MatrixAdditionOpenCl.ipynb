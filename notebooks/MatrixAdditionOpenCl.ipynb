{
 "cells": [
  {
   "cell_type": "markdown",
   "metadata": {},
   "source": [
    "# License\n",
    "\n",
    "    Jupyter notebook for accessing OpenCL\n",
    "    Copyright (C) 2015, 2018 Andre.Brodtkorb@ifi.uio.no\n",
    "\n",
    "    This program is free software: you can redistribute it and/or modify\n",
    "    it under the terms of the GNU General Public License as published by\n",
    "    the Free Software Foundation, either version 3 of the License, or\n",
    "    (at your option) any later version.\n",
    "\n",
    "    This program is distributed in the hope that it will be useful,\n",
    "    but WITHOUT ANY WARRANTY; without even the implied warranty of\n",
    "    MERCHANTABILITY or FITNESS FOR A PARTICULAR PURPOSE.  See the\n",
    "    GNU General Public License for more details.\n",
    "\n",
    "    You should have received a copy of the GNU General Public License\n",
    "    along with this program.  If not, see <http://www.gnu.org/licenses/>."
   ]
  },
  {
   "cell_type": "code",
   "execution_count": 1,
   "metadata": {},
   "outputs": [],
   "source": [
    "#Lets have matplotlib \"inline\"\n",
    "%matplotlib inline\n",
    "\n",
    "#Lets have opencl ipython integration enabled\n",
    "%load_ext pyopencl.ipython_ext\n",
    "\n",
    "#Import packages we need\n",
    "import os\n",
    "import numpy as np\n",
    "import pyopencl as cl\n",
    "\n",
    "from matplotlib import pyplot as plt\n",
    "\n",
    "#Make sure we get compiler output from OpenCL\n",
    "import os\n",
    "os.environ[\"PYOPENCL_COMPILER_OUTPUT\"] = \"1\""
   ]
  },
  {
   "cell_type": "code",
   "execution_count": 5,
   "metadata": {},
   "outputs": [
    {
     "name": "stdout",
     "output_type": "stream",
     "text": [
      "Using  Intel(R) Xeon(R) CPU E5-2686 v4 @ 2.30GHz\n"
     ]
    }
   ],
   "source": [
    "#Determine which GPU to use\n",
    "os.environ[\"PYOPENCL_CTX\"] = \"1\"\n",
    "\n",
    "#Create OpenCL context\n",
    "cl_ctx = cl.create_some_context()\n",
    "\n",
    "print(\"Using \", cl_ctx.devices[0].name)\n",
    "\n",
    "#Create an OpenCL command queue\n",
    "cl_queue = cl.CommandQueue(cl_ctx)"
   ]
  },
  {
   "cell_type": "code",
   "execution_count": 7,
   "metadata": {},
   "outputs": [],
   "source": [
    "%%cl_kernel # it says 'Interpret this cell as the kernel'\n",
    "# We need to change it for 2D matrix\n",
    "__kernel void addKernel(__global float *c, __global const float *a, __global const float *b) {\n",
    "  int gid = get_global_id(0);  \n",
    "  c[gid] = a[gid] + b[gid];\n",
    "}"
   ]
  },
  {
   "cell_type": "code",
   "execution_count": 8,
   "metadata": {},
   "outputs": [
    {
     "data": {
      "text/plain": [
       "<pyopencl.cffi_cl.NannyEvent at 0x7faa60786978>"
      ]
     },
     "execution_count": 8,
     "metadata": {},
     "output_type": "execute_result"
    }
   ],
   "source": [
    "#Size of our test\n",
    "n = 50\n",
    "\n",
    "#Create test input / output data\n",
    "#NOTE: For matrix addition need to use np.random.random((size)) for 2D\n",
    "a = np.random.rand(n).astype(np.float32)\n",
    "b = np.random.rand(n).astype(np.float32)\n",
    "c = np.empty_like(a)\n",
    "\n",
    "#Upload data to the device\n",
    "mf = cl.mem_flags\n",
    "a_g = cl.Buffer(cl_ctx, mf.READ_ONLY | mf.COPY_HOST_PTR, hostbuf=a)\n",
    "b_g = cl.Buffer(cl_ctx, mf.READ_ONLY | mf.COPY_HOST_PTR, hostbuf=b)\n",
    "\n",
    "#Allocate output data\n",
    "c_g = cl.Buffer(cl_ctx, mf.WRITE_ONLY, a.nbytes) # I'm allocating the right number of bites, not of elements\n",
    "\n",
    "#Execute program on device\n",
    "addKernel(cl_queue, a.shape, None, c_g, a_g, b_g)\n",
    "\n",
    "#Copy data from device to host\n",
    "cl.enqueue_copy(cl_queue, c, c_g)"
   ]
  },
  {
   "cell_type": "code",
   "execution_count": 9,
   "metadata": {},
   "outputs": [
    {
     "name": "stdout",
     "output_type": "stream",
     "text": [
      "C   =  [0.4450977  1.5435922  0.613253   0.9571967  0.7160654  0.9061918\n",
      " 1.3518143  0.72939885 0.7644731  0.34424773 1.3303266  0.23773877\n",
      " 0.57861704 1.2921455  1.1192107  0.94111913 1.5183527  0.83974516\n",
      " 0.79609466 0.9835112  0.7616987  0.55344355 1.5348403  1.0508264\n",
      " 0.88163924 1.5534701  0.9755257  1.0719692  1.2712587  1.6487484\n",
      " 1.6999147  1.1406562  0.59259963 1.2733294  0.47780174 1.4950477\n",
      " 1.4874265  0.7925861  1.2926583  1.0168258  1.2447764  0.7256965\n",
      " 0.9093585  1.6922725  1.0726765  1.1254524  0.32049906 0.40326428\n",
      " 1.6221714  1.1087648 ]\n",
      "Ref =  [0.4450977  1.5435922  0.613253   0.9571967  0.7160654  0.9061918\n",
      " 1.3518143  0.72939885 0.7644731  0.34424773 1.3303266  0.23773877\n",
      " 0.57861704 1.2921455  1.1192107  0.94111913 1.5183527  0.83974516\n",
      " 0.79609466 0.9835112  0.7616987  0.55344355 1.5348403  1.0508264\n",
      " 0.88163924 1.5534701  0.9755257  1.0719692  1.2712587  1.6487484\n",
      " 1.6999147  1.1406562  0.59259963 1.2733294  0.47780174 1.4950477\n",
      " 1.4874265  0.7925861  1.2926583  1.0168258  1.2447764  0.7256965\n",
      " 0.9093585  1.6922725  1.0726765  1.1254524  0.32049906 0.40326428\n",
      " 1.6221714  1.1087648 ]\n",
      "Sad =  0.0\n"
     ]
    }
   ],
   "source": [
    "#Compute reference using Numpy\n",
    "c_ref = a + b\n",
    "\n",
    "#Print result\n",
    "print(\"C   = \", c)\n",
    "print(\"Ref = \", c_ref)\n",
    "print(\"Sad = \", np.sum(np.abs(c - c_ref)))"
   ]
  },
  {
   "cell_type": "code",
   "execution_count": 10,
   "metadata": {},
   "outputs": [
    {
     "data": {
      "text/plain": [
       "[<matplotlib.lines.Line2D at 0x7faa60786240>]"
      ]
     },
     "execution_count": 10,
     "metadata": {},
     "output_type": "execute_result"
    },
    {
     "data": {
      "image/png": "[encoded data removed]",
      "text/plain": [
       "<matplotlib.figure.Figure at 0x7faa6077b828>"
      ]
     },
     "metadata": {
      "needs_background": "light"
     },
     "output_type": "display_data"
    }
   ],
   "source": [
    "plt.figure()\n",
    "plt.plot(c, '+r')\n",
    "plt.plot(c_ref, 'xb')"
   ]
  },
  {
   "cell_type": "code",
   "execution_count": null,
   "metadata": {
    "collapsed": true
   },
   "outputs": [],
   "source": []
  }
 ],
 "metadata": {
  "kernelspec": {
   "display_name": "Python 3",
   "language": "python",
   "name": "python3"
  },
  "language_info": {
   "codemirror_mode": {
    "name": "ipython",
    "version": 3
   },
   "file_extension": ".py",
   "mimetype": "text/x-python",
   "name": "python",
   "nbconvert_exporter": "python",
   "pygments_lexer": "ipython3",
   "version": "3.6.6"
  }
 },
 "nbformat": 4,
 "nbformat_minor": 2
}
