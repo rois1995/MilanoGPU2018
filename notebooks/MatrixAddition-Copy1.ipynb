{
 "cells": [
  {
   "cell_type": "markdown",
   "metadata": {},
   "source": [
    "# License\n",
    "\n",
    "    Jupyter notebook for accessing CUDA\n",
    "    Copyright (C) 2018 Andre.Brodtkorb@ifi.uio.no, changed in October by Andrea Rausa\n",
    "\n",
    "    This program is free software: you can redistribute it and/or modify\n",
    "    it under the terms of the GNU General Public License as published by\n",
    "    the Free Software Foundation, either version 3 of the License, or\n",
    "    (at your option) any later version.\n",
    "\n",
    "    This program is distributed in the hope that it will be useful,\n",
    "    but WITHOUT ANY WARRANTY; without even the implied warranty of\n",
    "    MERCHANTABILITY or FITNESS FOR A PARTICULAR PURPOSE.  See the\n",
    "    GNU General Public License for more details.\n",
    "\n",
    "    You should have received a copy of the GNU General Public License\n",
    "    along with this program.  If not, see <http://www.gnu.org/licenses/>."
   ]
  },
  {
   "cell_type": "code",
   "execution_count": 1,
   "metadata": {},
   "outputs": [],
   "source": [
    "#Lets have matplotlib \"inline\"\n",
    "%matplotlib inline\n",
    "\n",
    "#Import packages we need\n",
    "import numpy as np\n",
    "import pycuda.compiler as cuda_compiler\n",
    "from pycuda.gpuarray import GPUArray\n",
    "import pycuda.driver as cuda_driver\n",
    "\n",
    "from matplotlib import pyplot as plt"
   ]
  },
  {
   "cell_type": "code",
   "execution_count": 3,
   "metadata": {},
   "outputs": [],
   "source": [
    "#Initialize CUDA - must be first call to CUDA!\n",
    "cuda_driver.init()"
   ]
  },
  {
   "cell_type": "code",
   "execution_count": 5,
   "metadata": {},
   "outputs": [
    {
     "name": "stdout",
     "output_type": "stream",
     "text": [
      "Using 'Tesla K80'\n",
      " => compute capability: (3, 7)\n",
      " => memory: 10819 / 11441 MB available\n"
     ]
    }
   ],
   "source": [
    "#Create CUDA context\n",
    "cuda_device = cuda_driver.Device(0)\n",
    "print(\"Using '{:s}'\".format(cuda_device.name()))\n",
    "print(\" => compute capability: {:s}\".format(str(cuda_device.compute_capability())))\n",
    "context = cuda_device.make_context()\n",
    "free, total = cuda_driver.mem_get_info()\n",
    "print(\" => memory: {:d} / {:d} MB available\".format(int(free/(1024*1024)), int(total/(1024*1024))))"
   ]
  },
  {
   "cell_type": "code",
   "execution_count": 42,
   "metadata": {},
   "outputs": [],
   "source": [
    "cuda_kernel = \"\"\"\n",
    "__global__ void addVectorKernel(float* c, float* a, float* b) {\n",
    "    unsigned int i = blockIdx.x*blockDim.x + threadIdx.x;\n",
    "\n",
    "    c[i] = a[i] + b[i];\n",
    "}\n",
    "\n",
    "__global__ void addMatrixKernel( float* c, float* a, float* b, int cols) {\n",
    "    unsigned int i = blockIdx.x*blockDim.x + threadIdx.x;  // Idx = Index\n",
    "    unsigned int j = blockIdx.y*blockDim.y + threadIdx.y;\n",
    "    \n",
    "    unsigned int k = j * cols + i; // I'm using linear indexes for going through the matrix\n",
    "    \n",
    "    // Pseudocode\n",
    "    // c[j][i] = a[j][i] + b[j][i]\n",
    "    \n",
    "    c[k] = a[k] + b[k];\n",
    "}\n",
    "\n",
    "__global__ void multMatVecKernel( float* c, float* a, float* b, int cols){\n",
    "    unsigned int i = blockIdx.x*blockDim.x + threadIdx.x;\n",
    "    unsigned int j = blockIdx.y*blockDim.y + threadIdx.y;\n",
    "    \n",
    "    unsigned int k = j * cols + i;\n",
    "    \n",
    "    c[j] = a[k] * b[j];\n",
    "}\n",
    "\"\"\"\n",
    "module = cuda_compiler.SourceModule(cuda_kernel)\n",
    "kernel = module.get_function(\"multMatVecKernel\");"
   ]
  },
  {
   "cell_type": "code",
   "execution_count": 43,
   "metadata": {},
   "outputs": [
    {
     "data": {
      "text/plain": [
       "<bound method Figure.show of <matplotlib.figure.Figure object at 0x7f75f091f240>>"
      ]
     },
     "execution_count": 43,
     "metadata": {},
     "output_type": "execute_result"
    },
    {
     "data": {
      "image/png": "[encoded data removed]",
      "text/plain": [
       "<matplotlib.figure.Figure at 0x7f75f091f240>"
      ]
     },
     "metadata": {
      "needs_background": "light"
     },
     "output_type": "display_data"
    }
   ],
   "source": [
    "#Size of our test\n",
    "test_size = (16, 24)  # always try to use different sizes for columns and rows\n",
    "\n",
    "#Create test input / output data\n",
    "a = np.random.random(test_size).astype(np.float32)\n",
    "b = np.random.random(test_size[0]).astype(np.float32)\n",
    "c = np.empty_like(b)\n",
    "\n",
    "fig = plt.figure(figsize=(12,8))\n",
    "plt.imshow(a)\n",
    "plt.colorbar()\n",
    "fig.show"
   ]
  },
  {
   "cell_type": "code",
   "execution_count": 44,
   "metadata": {},
   "outputs": [
    {
     "name": "stdout",
     "output_type": "stream",
     "text": [
      "(16, 24)\n",
      "(16,)\n"
     ]
    }
   ],
   "source": [
    "print(a.shape)\n",
    "print(b.shape)"
   ]
  },
  {
   "cell_type": "code",
   "execution_count": 19,
   "metadata": {},
   "outputs": [],
   "source": [
    "#Upload data to the device\n",
    "a_g = GPUArray(a.shape, np.float32)\n",
    "b_g = GPUArray(b.shape, np.float32)\n",
    "a_g.set(a)\n",
    "b_g.set(b)"
   ]
  },
  {
   "cell_type": "code",
   "execution_count": 20,
   "metadata": {},
   "outputs": [],
   "source": [
    "#Allocate output data\n",
    "c_g = GPUArray(c.shape, np.float32)"
   ]
  },
  {
   "cell_type": "code",
   "execution_count": 37,
   "metadata": {},
   "outputs": [
    {
     "name": "stdout",
     "output_type": "stream",
     "text": [
      "Block size is (8, 4, 1)\n",
      "Grid size is (3, 4, 1)\n",
      "Domain size is (24, 16)\n"
     ]
    }
   ],
   "source": [
    "# a.shape = [rows, columns] => [y,x] I have to transpose it 'cause in the kernel we've done it\n",
    "\n",
    "domain_size = (a.shape[1], a.shape[0]) # now domain is in [x, y, z]\n",
    "block_size = (8, 4, 1)\n",
    "grid_size = (domain_size[0]//block_size[0], domain_size[1]//block_size[1], 1)  # // is integer division and / is real division. we want integers\n",
    "\n",
    "print(\"Block size is \" + str(block_size))\n",
    "print(\"Grid size is \" + str(grid_size)) \n",
    "print(\"Domain size is \" + str(domain_size))"
   ]
  },
  {
   "cell_type": "code",
   "execution_count": 38,
   "metadata": {},
   "outputs": [],
   "source": [
    "#Execute program on device\n",
    "kernel(c_g, a_g, b_g, np.int32(domain_size[0]), block = block_size, grid = grid_size) # I have to pass the exact value of domain_size[1]"
   ]
  },
  {
   "cell_type": "code",
   "execution_count": 39,
   "metadata": {},
   "outputs": [
    {
     "data": {
      "text/plain": [
       "array([[0.30874   , 0.49913433, 0.6674378 , 0.54250693, 1.0944571 ,\n",
       "        1.4623718 , 1.695982  , 0.3967465 , 1.3457166 , 1.0039402 ,\n",
       "        0.62689626, 0.54251677, 0.69780916, 0.75504863, 1.3156292 ,\n",
       "        1.2827667 , 0.38807288, 0.5226969 , 1.0457029 , 0.967114  ,\n",
       "        1.3252735 , 0.6866703 , 0.4277768 , 0.9055469 ],\n",
       "       [1.6908553 , 1.0316973 , 1.1771215 , 1.5725267 , 1.6346146 ,\n",
       "        1.5264046 , 1.1271572 , 1.2982844 , 0.9745383 , 1.7055471 ,\n",
       "        1.2849618 , 1.3946536 , 0.3043125 , 0.21664564, 1.0300617 ,\n",
       "        1.5829625 , 0.19856948, 1.27763   , 0.7297137 , 1.558249  ,\n",
       "        0.6423631 , 1.2178807 , 1.3737068 , 0.34489125],\n",
       "       [0.8744519 , 1.0831376 , 0.86067   , 1.4566491 , 1.1825082 ,\n",
       "        0.9837386 , 1.1715047 , 1.0955601 , 0.9456692 , 1.3135803 ,\n",
       "        1.121515  , 0.8926764 , 0.6437118 , 1.2150737 , 0.51531255,\n",
       "        1.5356662 , 1.2025416 , 1.1468266 , 1.8324981 , 1.3506353 ,\n",
       "        0.76561314, 1.2210364 , 1.5203147 , 1.6124957 ],\n",
       "       [0.74033654, 1.117642  , 1.0881035 , 1.2066615 , 0.9752754 ,\n",
       "        1.3908124 , 1.2012137 , 0.96661997, 0.82578   , 0.883382  ,\n",
       "        1.0232668 , 1.5061595 , 0.5917443 , 0.5885466 , 1.4399543 ,\n",
       "        0.99780047, 0.82473195, 0.46753603, 0.23619471, 1.1218281 ,\n",
       "        0.66708696, 1.0737654 , 0.96956027, 1.0233777 ],\n",
       "       [0.62129855, 1.9017546 , 1.526412  , 1.2100405 , 1.6118487 ,\n",
       "        1.0430245 , 0.87715983, 1.3460609 , 0.9984106 , 1.150484  ,\n",
       "        1.0431325 , 1.1464444 , 1.3098992 , 0.58947754, 1.1369417 ,\n",
       "        0.63115597, 1.6437473 , 0.6219076 , 0.94112533, 0.9193307 ,\n",
       "        0.17920256, 0.9519402 , 1.0947664 , 1.5538764 ],\n",
       "       [0.1648971 , 1.1778113 , 0.99507207, 0.8712917 , 1.329967  ,\n",
       "        0.54165745, 0.99759114, 0.8499779 , 0.61556447, 0.87814754,\n",
       "        1.2072754 , 1.2067463 , 0.8814316 , 0.62425506, 0.97966874,\n",
       "        0.5484326 , 0.5130465 , 1.2235041 , 0.4251514 , 1.7516016 ,\n",
       "        1.303471  , 0.32072496, 1.5423546 , 1.2504154 ],\n",
       "       [1.0428635 , 1.4643326 , 0.76866347, 0.57798815, 1.2019747 ,\n",
       "        0.8268306 , 0.9800399 , 0.5105061 , 1.637622  , 1.0862145 ,\n",
       "        1.5016055 , 0.5252482 , 0.78425586, 0.9936536 , 0.8916199 ,\n",
       "        0.6048119 , 1.0725594 , 1.0928336 , 1.3084131 , 1.0355706 ,\n",
       "        0.8513601 , 0.6506473 , 1.4164299 , 0.8536951 ],\n",
       "       [1.1457769 , 0.8129382 , 1.3337684 , 1.3020339 , 0.99005914,\n",
       "        0.47406048, 0.72228795, 1.3063362 , 1.6673048 , 0.87918603,\n",
       "        1.546905  , 1.1069152 , 0.75406045, 1.8131375 , 0.7879197 ,\n",
       "        1.21313   , 0.6826182 , 0.8409315 , 0.9322003 , 1.0009793 ,\n",
       "        1.87411   , 1.1950556 , 0.7934115 , 1.0841444 ],\n",
       "       [0.9417509 , 0.80536765, 0.9372479 , 0.3418895 , 1.6348987 ,\n",
       "        0.61201924, 1.7097377 , 1.4114845 , 1.4357038 , 1.2137961 ,\n",
       "        0.7698686 , 0.8881505 , 1.0258994 , 0.9150121 , 1.2528766 ,\n",
       "        0.56869966, 0.69495386, 1.5459635 , 0.82802063, 0.8875704 ,\n",
       "        0.72554344, 0.9794483 , 1.1371411 , 1.1146624 ],\n",
       "       [1.1896555 , 1.4342897 , 1.0340736 , 0.9851909 , 0.52651656,\n",
       "        0.81538326, 1.3956447 , 1.2842972 , 1.5396168 , 0.83724517,\n",
       "        1.2065892 , 0.46542278, 1.0365607 , 0.627615  , 1.5541863 ,\n",
       "        0.81601524, 0.49217397, 1.2486542 , 1.6616201 , 0.91002196,\n",
       "        0.14704934, 0.74802923, 0.36984798, 0.2655279 ],\n",
       "       [0.34202933, 1.30841   , 1.2931402 , 0.5891641 , 1.4772651 ,\n",
       "        1.0940795 , 1.1135292 , 1.0779237 , 0.10823432, 0.9762689 ,\n",
       "        0.43037546, 1.5823469 , 1.2733588 , 0.10543114, 0.28217945,\n",
       "        1.6640344 , 0.70864415, 0.8166449 , 1.1673766 , 1.0122867 ,\n",
       "        0.7323501 , 0.8293167 , 0.92649746, 1.6167403 ],\n",
       "       [0.16428117, 0.90807325, 0.59823537, 1.0122373 , 0.531829  ,\n",
       "        1.3424671 , 1.1847744 , 1.0978606 , 0.7382244 , 1.1383127 ,\n",
       "        0.61411524, 1.7558676 , 1.0720083 , 1.2092497 , 1.5270771 ,\n",
       "        1.0722134 , 1.6692865 , 0.6196693 , 0.7952586 , 0.8416128 ,\n",
       "        1.4078095 , 1.0244143 , 0.4775508 , 1.3231323 ],\n",
       "       [1.2396231 , 0.71722496, 0.9258559 , 0.851192  , 0.8997168 ,\n",
       "        0.88474095, 0.96390676, 1.4326243 , 1.4961154 , 1.193737  ,\n",
       "        0.97342426, 0.6272058 , 1.2365909 , 1.2089123 , 0.52597165,\n",
       "        0.7251905 , 0.7978054 , 0.81466484, 0.39666104, 1.2259245 ,\n",
       "        0.8770243 , 1.369025  , 0.83729434, 1.0046628 ],\n",
       "       [1.4104517 , 0.6471161 , 0.52395505, 0.8082112 , 0.39614886,\n",
       "        1.6696091 , 0.36511612, 1.2196327 , 0.56400853, 1.3344846 ,\n",
       "        0.4586351 , 1.1219058 , 1.5942894 , 0.9681388 , 1.6996505 ,\n",
       "        0.955075  , 1.0496832 , 1.0737994 , 0.8611493 , 0.88115114,\n",
       "        0.16557087, 0.94663155, 0.7770768 , 0.6137502 ],\n",
       "       [1.1384542 , 1.5675044 , 0.8307941 , 0.7545011 , 0.9234432 ,\n",
       "        0.75258577, 0.9945292 , 0.9252537 , 0.46232328, 1.4580464 ,\n",
       "        1.4583002 , 1.4687533 , 1.5395688 , 0.99216443, 0.38202724,\n",
       "        0.9799364 , 1.5118873 , 0.77610683, 0.8676615 , 0.6047707 ,\n",
       "        0.7988244 , 1.3637154 , 1.3740672 , 1.2290063 ],\n",
       "       [1.0658137 , 0.93283045, 1.7558546 , 1.7176652 , 1.1227493 ,\n",
       "        1.013039  , 1.1466389 , 1.5946186 , 1.3811013 , 1.4088137 ,\n",
       "        1.5048597 , 1.6000594 , 1.2797056 , 1.2559798 , 0.8325718 ,\n",
       "        1.6052183 , 0.9231291 , 1.4297783 , 0.7884559 , 0.7732365 ,\n",
       "        0.561712  , 1.1274029 , 1.4698558 , 1.032545  ]], dtype=float32)"
      ]
     },
     "execution_count": 39,
     "metadata": {},
     "output_type": "execute_result"
    }
   ],
   "source": [
    "#Copy data from device to host\n",
    "c_g.get(c)"
   ]
  },
  {
   "cell_type": "code",
   "execution_count": 40,
   "metadata": {},
   "outputs": [
    {
     "name": "stdout",
     "output_type": "stream",
     "text": [
      "C   =  [[0.30874    0.49913433 0.6674378  0.54250693 1.0944571  1.4623718\n",
      "  1.695982   0.3967465  1.3457166  1.0039402  0.62689626 0.54251677\n",
      "  0.69780916 0.75504863 1.3156292  1.2827667  0.38807288 0.5226969\n",
      "  1.0457029  0.967114   1.3252735  0.6866703  0.4277768  0.9055469 ]\n",
      " [1.6908553  1.0316973  1.1771215  1.5725267  1.6346146  1.5264046\n",
      "  1.1271572  1.2982844  0.9745383  1.7055471  1.2849618  1.3946536\n",
      "  0.3043125  0.21664564 1.0300617  1.5829625  0.19856948 1.27763\n",
      "  0.7297137  1.558249   0.6423631  1.2178807  1.3737068  0.34489125]\n",
      " [0.8744519  1.0831376  0.86067    1.4566491  1.1825082  0.9837386\n",
      "  1.1715047  1.0955601  0.9456692  1.3135803  1.121515   0.8926764\n",
      "  0.6437118  1.2150737  0.51531255 1.5356662  1.2025416  1.1468266\n",
      "  1.8324981  1.3506353  0.76561314 1.2210364  1.5203147  1.6124957 ]\n",
      " [0.74033654 1.117642   1.0881035  1.2066615  0.9752754  1.3908124\n",
      "  1.2012137  0.96661997 0.82578    0.883382   1.0232668  1.5061595\n",
      "  0.5917443  0.5885466  1.4399543  0.99780047 0.82473195 0.46753603\n",
      "  0.23619471 1.1218281  0.66708696 1.0737654  0.96956027 1.0233777 ]\n",
      " [0.62129855 1.9017546  1.526412   1.2100405  1.6118487  1.0430245\n",
      "  0.87715983 1.3460609  0.9984106  1.150484   1.0431325  1.1464444\n",
      "  1.3098992  0.58947754 1.1369417  0.63115597 1.6437473  0.6219076\n",
      "  0.94112533 0.9193307  0.17920256 0.9519402  1.0947664  1.5538764 ]\n",
      " [0.1648971  1.1778113  0.99507207 0.8712917  1.329967   0.54165745\n",
      "  0.99759114 0.8499779  0.61556447 0.87814754 1.2072754  1.2067463\n",
      "  0.8814316  0.62425506 0.97966874 0.5484326  0.5130465  1.2235041\n",
      "  0.4251514  1.7516016  1.303471   0.32072496 1.5423546  1.2504154 ]\n",
      " [1.0428635  1.4643326  0.76866347 0.57798815 1.2019747  0.8268306\n",
      "  0.9800399  0.5105061  1.637622   1.0862145  1.5016055  0.5252482\n",
      "  0.78425586 0.9936536  0.8916199  0.6048119  1.0725594  1.0928336\n",
      "  1.3084131  1.0355706  0.8513601  0.6506473  1.4164299  0.8536951 ]\n",
      " [1.1457769  0.8129382  1.3337684  1.3020339  0.99005914 0.47406048\n",
      "  0.72228795 1.3063362  1.6673048  0.87918603 1.546905   1.1069152\n",
      "  0.75406045 1.8131375  0.7879197  1.21313    0.6826182  0.8409315\n",
      "  0.9322003  1.0009793  1.87411    1.1950556  0.7934115  1.0841444 ]\n",
      " [0.9417509  0.80536765 0.9372479  0.3418895  1.6348987  0.61201924\n",
      "  1.7097377  1.4114845  1.4357038  1.2137961  0.7698686  0.8881505\n",
      "  1.0258994  0.9150121  1.2528766  0.56869966 0.69495386 1.5459635\n",
      "  0.82802063 0.8875704  0.72554344 0.9794483  1.1371411  1.1146624 ]\n",
      " [1.1896555  1.4342897  1.0340736  0.9851909  0.52651656 0.81538326\n",
      "  1.3956447  1.2842972  1.5396168  0.83724517 1.2065892  0.46542278\n",
      "  1.0365607  0.627615   1.5541863  0.81601524 0.49217397 1.2486542\n",
      "  1.6616201  0.91002196 0.14704934 0.74802923 0.36984798 0.2655279 ]\n",
      " [0.34202933 1.30841    1.2931402  0.5891641  1.4772651  1.0940795\n",
      "  1.1135292  1.0779237  0.10823432 0.9762689  0.43037546 1.5823469\n",
      "  1.2733588  0.10543114 0.28217945 1.6640344  0.70864415 0.8166449\n",
      "  1.1673766  1.0122867  0.7323501  0.8293167  0.92649746 1.6167403 ]\n",
      " [0.16428117 0.90807325 0.59823537 1.0122373  0.531829   1.3424671\n",
      "  1.1847744  1.0978606  0.7382244  1.1383127  0.61411524 1.7558676\n",
      "  1.0720083  1.2092497  1.5270771  1.0722134  1.6692865  0.6196693\n",
      "  0.7952586  0.8416128  1.4078095  1.0244143  0.4775508  1.3231323 ]\n",
      " [1.2396231  0.71722496 0.9258559  0.851192   0.8997168  0.88474095\n",
      "  0.96390676 1.4326243  1.4961154  1.193737   0.97342426 0.6272058\n",
      "  1.2365909  1.2089123  0.52597165 0.7251905  0.7978054  0.81466484\n",
      "  0.39666104 1.2259245  0.8770243  1.369025   0.83729434 1.0046628 ]\n",
      " [1.4104517  0.6471161  0.52395505 0.8082112  0.39614886 1.6696091\n",
      "  0.36511612 1.2196327  0.56400853 1.3344846  0.4586351  1.1219058\n",
      "  1.5942894  0.9681388  1.6996505  0.955075   1.0496832  1.0737994\n",
      "  0.8611493  0.88115114 0.16557087 0.94663155 0.7770768  0.6137502 ]\n",
      " [1.1384542  1.5675044  0.8307941  0.7545011  0.9234432  0.75258577\n",
      "  0.9945292  0.9252537  0.46232328 1.4580464  1.4583002  1.4687533\n",
      "  1.5395688  0.99216443 0.38202724 0.9799364  1.5118873  0.77610683\n",
      "  0.8676615  0.6047707  0.7988244  1.3637154  1.3740672  1.2290063 ]\n",
      " [1.0658137  0.93283045 1.7558546  1.7176652  1.1227493  1.013039\n",
      "  1.1466389  1.5946186  1.3811013  1.4088137  1.5048597  1.6000594\n",
      "  1.2797056  1.2559798  0.8325718  1.6052183  0.9231291  1.4297783\n",
      "  0.7884559  0.7732365  0.561712   1.1274029  1.4698558  1.032545  ]]\n",
      "Ref =  [[0.30874    0.49913433 0.6674378  0.54250693 1.0944571  1.4623718\n",
      "  1.695982   0.3967465  1.3457166  1.0039402  0.62689626 0.54251677\n",
      "  0.69780916 0.75504863 1.3156292  1.2827667  0.38807288 0.5226969\n",
      "  1.0457029  0.967114   1.3252735  0.6866703  0.4277768  0.9055469 ]\n",
      " [1.6908553  1.0316973  1.1771215  1.5725267  1.6346146  1.5264046\n",
      "  1.1271572  1.2982844  0.9745383  1.7055471  1.2849618  1.3946536\n",
      "  0.3043125  0.21664564 1.0300617  1.5829625  0.19856948 1.27763\n",
      "  0.7297137  1.558249   0.6423631  1.2178807  1.3737068  0.34489125]\n",
      " [0.8744519  1.0831376  0.86067    1.4566491  1.1825082  0.9837386\n",
      "  1.1715047  1.0955601  0.9456692  1.3135803  1.121515   0.8926764\n",
      "  0.6437118  1.2150737  0.51531255 1.5356662  1.2025416  1.1468266\n",
      "  1.8324981  1.3506353  0.76561314 1.2210364  1.5203147  1.6124957 ]\n",
      " [0.74033654 1.117642   1.0881035  1.2066615  0.9752754  1.3908124\n",
      "  1.2012137  0.96661997 0.82578    0.883382   1.0232668  1.5061595\n",
      "  0.5917443  0.5885466  1.4399543  0.99780047 0.82473195 0.46753603\n",
      "  0.23619471 1.1218281  0.66708696 1.0737654  0.96956027 1.0233777 ]\n",
      " [0.62129855 1.9017546  1.526412   1.2100405  1.6118487  1.0430245\n",
      "  0.87715983 1.3460609  0.9984106  1.150484   1.0431325  1.1464444\n",
      "  1.3098992  0.58947754 1.1369417  0.63115597 1.6437473  0.6219076\n",
      "  0.94112533 0.9193307  0.17920256 0.9519402  1.0947664  1.5538764 ]\n",
      " [0.1648971  1.1778113  0.99507207 0.8712917  1.329967   0.54165745\n",
      "  0.99759114 0.8499779  0.61556447 0.87814754 1.2072754  1.2067463\n",
      "  0.8814316  0.62425506 0.97966874 0.5484326  0.5130465  1.2235041\n",
      "  0.4251514  1.7516016  1.303471   0.32072496 1.5423546  1.2504154 ]\n",
      " [1.0428635  1.4643326  0.76866347 0.57798815 1.2019747  0.8268306\n",
      "  0.9800399  0.5105061  1.637622   1.0862145  1.5016055  0.5252482\n",
      "  0.78425586 0.9936536  0.8916199  0.6048119  1.0725594  1.0928336\n",
      "  1.3084131  1.0355706  0.8513601  0.6506473  1.4164299  0.8536951 ]\n",
      " [1.1457769  0.8129382  1.3337684  1.3020339  0.99005914 0.47406048\n",
      "  0.72228795 1.3063362  1.6673048  0.87918603 1.546905   1.1069152\n",
      "  0.75406045 1.8131375  0.7879197  1.21313    0.6826182  0.8409315\n",
      "  0.9322003  1.0009793  1.87411    1.1950556  0.7934115  1.0841444 ]\n",
      " [0.9417509  0.80536765 0.9372479  0.3418895  1.6348987  0.61201924\n",
      "  1.7097377  1.4114845  1.4357038  1.2137961  0.7698686  0.8881505\n",
      "  1.0258994  0.9150121  1.2528766  0.56869966 0.69495386 1.5459635\n",
      "  0.82802063 0.8875704  0.72554344 0.9794483  1.1371411  1.1146624 ]\n",
      " [1.1896555  1.4342897  1.0340736  0.9851909  0.52651656 0.81538326\n",
      "  1.3956447  1.2842972  1.5396168  0.83724517 1.2065892  0.46542278\n",
      "  1.0365607  0.627615   1.5541863  0.81601524 0.49217397 1.2486542\n",
      "  1.6616201  0.91002196 0.14704934 0.74802923 0.36984798 0.2655279 ]\n",
      " [0.34202933 1.30841    1.2931402  0.5891641  1.4772651  1.0940795\n",
      "  1.1135292  1.0779237  0.10823432 0.9762689  0.43037546 1.5823469\n",
      "  1.2733588  0.10543114 0.28217945 1.6640344  0.70864415 0.8166449\n",
      "  1.1673766  1.0122867  0.7323501  0.8293167  0.92649746 1.6167403 ]\n",
      " [0.16428117 0.90807325 0.59823537 1.0122373  0.531829   1.3424671\n",
      "  1.1847744  1.0978606  0.7382244  1.1383127  0.61411524 1.7558676\n",
      "  1.0720083  1.2092497  1.5270771  1.0722134  1.6692865  0.6196693\n",
      "  0.7952586  0.8416128  1.4078095  1.0244143  0.4775508  1.3231323 ]\n",
      " [1.2396231  0.71722496 0.9258559  0.851192   0.8997168  0.88474095\n",
      "  0.96390676 1.4326243  1.4961154  1.193737   0.97342426 0.6272058\n",
      "  1.2365909  1.2089123  0.52597165 0.7251905  0.7978054  0.81466484\n",
      "  0.39666104 1.2259245  0.8770243  1.369025   0.83729434 1.0046628 ]\n",
      " [1.4104517  0.6471161  0.52395505 0.8082112  0.39614886 1.6696091\n",
      "  0.36511612 1.2196327  0.56400853 1.3344846  0.4586351  1.1219058\n",
      "  1.5942894  0.9681388  1.6996505  0.955075   1.0496832  1.0737994\n",
      "  0.8611493  0.88115114 0.16557087 0.94663155 0.7770768  0.6137502 ]\n",
      " [1.1384542  1.5675044  0.8307941  0.7545011  0.9234432  0.75258577\n",
      "  0.9945292  0.9252537  0.46232328 1.4580464  1.4583002  1.4687533\n",
      "  1.5395688  0.99216443 0.38202724 0.9799364  1.5118873  0.77610683\n",
      "  0.8676615  0.6047707  0.7988244  1.3637154  1.3740672  1.2290063 ]\n",
      " [1.0658137  0.93283045 1.7558546  1.7176652  1.1227493  1.013039\n",
      "  1.1466389  1.5946186  1.3811013  1.4088137  1.5048597  1.6000594\n",
      "  1.2797056  1.2559798  0.8325718  1.6052183  0.9231291  1.4297783\n",
      "  0.7884559  0.7732365  0.561712   1.1274029  1.4698558  1.032545  ]]\n",
      "Sad =  0.0\n"
     ]
    }
   ],
   "source": [
    "#Compute reference using Numpy\n",
    "c_ref = a + b\n",
    "\n",
    "#Print result\n",
    "print(\"C   = \", c)\n",
    "print(\"Ref = \", c_ref)\n",
    "print(\"Sad = \", np.sum(np.abs(c - c_ref))) # Sum of absolute differences"
   ]
  },
  {
   "cell_type": "code",
   "execution_count": 41,
   "metadata": {},
   "outputs": [
    {
     "data": {
      "text/plain": [
       "<matplotlib.image.AxesImage at 0x7f75f0961c50>"
      ]
     },
     "execution_count": 41,
     "metadata": {},
     "output_type": "execute_result"
    },
    {
     "data": {
      "image/png": "[encoded data removed]",
      "text/plain": [
       "<matplotlib.figure.Figure at 0x7f75f0ac9dd8>"
      ]
     },
     "metadata": {
      "needs_background": "light"
     },
     "output_type": "display_data"
    }
   ],
   "source": [
    "fig = plt.figure(figsize=(12, 8))\n",
    "plt.subplot(1, 2, 1)\n",
    "plt.imshow(c)\n",
    "plt.subplot(1, 2, 2)\n",
    "plt.imshow(c_ref)\n"
   ]
  },
  {
   "cell_type": "code",
   "execution_count": null,
   "metadata": {},
   "outputs": [],
   "source": []
  }
 ],
 "metadata": {
  "kernelspec": {
   "display_name": "Python 3",
   "language": "python",
   "name": "python3"
  },
  "language_info": {
   "codemirror_mode": {
    "name": "ipython",
    "version": 3
   },
   "file_extension": ".py",
   "mimetype": "text/x-python",
   "name": "python",
   "nbconvert_exporter": "python",
   "pygments_lexer": "ipython3",
   "version": "3.6.6"
  }
 },
 "nbformat": 4,
 "nbformat_minor": 2
}
